{
 "cells": [
  {
   "cell_type": "code",
   "execution_count": 9,
   "id": "14ffbc19",
   "metadata": {},
   "outputs": [],
   "source": [
    "from selenium import webdriver\n",
    "browser = webdriver.Chrome()\n",
    "browser.get('https://scraping-for-beginner.herokuapp.com/ranking/')"
   ]
  },
  {
   "cell_type": "code",
   "execution_count": 16,
   "id": "b93d7241",
   "metadata": {},
   "outputs": [
    {
     "name": "stderr",
     "output_type": "stream",
     "text": [
      "/var/folders/sd/hy0ty8wx76s1wmz7v_c1nyd80000gn/T/ipykernel_49391/36070058.py:1: DeprecationWarning: find_element_by_* commands are deprecated. Please use find_element() instead\n",
      "  elem_rankingBox = browser.find_element_by_class_name('u_areaListRankingBox')\n"
     ]
    }
   ],
   "source": [
    "elem_rankingBox = browser.find_element_by_class_name('u_areaListRankingBox')"
   ]
  },
  {
   "cell_type": "code",
   "execution_count": 17,
   "id": "cd806212",
   "metadata": {},
   "outputs": [
    {
     "name": "stderr",
     "output_type": "stream",
     "text": [
      "/usr/local/lib/python3.9/site-packages/selenium/webdriver/remote/webelement.py:446: UserWarning: find_element_by_* commands are deprecated. Please use find_element() instead\n",
      "  warnings.warn(\"find_element_by_* commands are deprecated. Please use find_element() instead\")\n"
     ]
    }
   ],
   "source": [
    "elem_title = elem_rankingBox.find_element_by_class_name('u_title')"
   ]
  },
  {
   "cell_type": "code",
   "execution_count": 21,
   "id": "dbcb9684",
   "metadata": {},
   "outputs": [
    {
     "data": {
      "text/plain": [
       "'観光地 1'"
      ]
     },
     "execution_count": 21,
     "metadata": {},
     "output_type": "execute_result"
    }
   ],
   "source": [
    "elem_title.text.split('\\n')[1]"
   ]
  },
  {
   "cell_type": "code",
   "execution_count": 29,
   "id": "f9fd55f4",
   "metadata": {},
   "outputs": [
    {
     "name": "stderr",
     "output_type": "stream",
     "text": [
      "/var/folders/sd/hy0ty8wx76s1wmz7v_c1nyd80000gn/T/ipykernel_49391/3469678720.py:1: DeprecationWarning: find_element_by_* commands are deprecated. Please use find_element() instead\n",
      "  elem_uRankBox = browser.find_element_by_class_name('u_rankBox')\n",
      "/usr/local/lib/python3.9/site-packages/selenium/webdriver/remote/webelement.py:446: UserWarning: find_element_by_* commands are deprecated. Please use find_element() instead\n",
      "  warnings.warn(\"find_element_by_* commands are deprecated. Please use find_element() instead\")\n"
     ]
    },
    {
     "data": {
      "text/plain": [
       "'4.7'"
      ]
     },
     "execution_count": 29,
     "metadata": {},
     "output_type": "execute_result"
    }
   ],
   "source": [
    "elem_uRankBox = browser.find_element_by_class_name('u_rankBox')\n",
    "elem_evaluateNumber = elem_uRankBox.find_element_by_class_name('evaluateNumber')\n",
    "elem_evaluateNumber.text"
   ]
  },
  {
   "cell_type": "code",
   "execution_count": 35,
   "id": "7c9d4211",
   "metadata": {},
   "outputs": [
    {
     "name": "stderr",
     "output_type": "stream",
     "text": [
      "/var/folders/sd/hy0ty8wx76s1wmz7v_c1nyd80000gn/T/ipykernel_49391/1886273634.py:1: DeprecationWarning: find_element_by_* commands are deprecated. Please use find_element() instead\n",
      "  elem_categoryTips = browser.find_element_by_class_name('u_categoryTipsItem')\n",
      "/usr/local/lib/python3.9/site-packages/selenium/webdriver/remote/webelement.py:341: UserWarning: find_element_by_* commands are deprecated. Please use find_element() instead\n",
      "  warnings.warn(\"find_element_by_* commands are deprecated. Please use find_element() instead\")\n"
     ]
    },
    {
     "data": {
      "text/plain": [
       "'楽しさ'"
      ]
     },
     "execution_count": 35,
     "metadata": {},
     "output_type": "execute_result"
    }
   ],
   "source": [
    "elem_categoryTips = browser.find_element_by_class_name('u_categoryTipsItem')\n",
    "elem_key = elem_categoryTips.find_element_by_tag_name('dt')\n",
    "elem_key.text"
   ]
  },
  {
   "cell_type": "code",
   "execution_count": 36,
   "id": "9cd4def3",
   "metadata": {},
   "outputs": [
    {
     "name": "stderr",
     "output_type": "stream",
     "text": [
      "/usr/local/lib/python3.9/site-packages/selenium/webdriver/remote/webelement.py:446: UserWarning: find_element_by_* commands are deprecated. Please use find_element() instead\n",
      "  warnings.warn(\"find_element_by_* commands are deprecated. Please use find_element() instead\")\n"
     ]
    },
    {
     "data": {
      "text/plain": [
       "'4.6'"
      ]
     },
     "execution_count": 36,
     "metadata": {},
     "output_type": "execute_result"
    }
   ],
   "source": [
    "elem_value = elem_categoryTips.find_element_by_class_name('evaluateNumber')\n",
    "elem_value.text"
   ]
  },
  {
   "cell_type": "code",
   "execution_count": 37,
   "id": "0cb48220",
   "metadata": {},
   "outputs": [
    {
     "name": "stderr",
     "output_type": "stream",
     "text": [
      "/usr/local/lib/python3.9/site-packages/selenium/webdriver/remote/webelement.py:446: UserWarning: find_element_by_* commands are deprecated. Please use find_element() instead\n",
      "  warnings.warn(\"find_element_by_* commands are deprecated. Please use find_element() instead\")\n"
     ]
    },
    {
     "data": {
      "text/plain": [
       "'非常に楽しい場所であった'"
      ]
     },
     "execution_count": 37,
     "metadata": {},
     "output_type": "execute_result"
    }
   ],
   "source": [
    "elem_comment = elem_categoryTips.find_element_by_class_name('comment')\n",
    "elem_comment.text"
   ]
  },
  {
   "cell_type": "code",
   "execution_count": 55,
   "id": "2edbb8be",
   "metadata": {},
   "outputs": [
    {
     "name": "stderr",
     "output_type": "stream",
     "text": [
      "/var/folders/sd/hy0ty8wx76s1wmz7v_c1nyd80000gn/T/ipykernel_49391/4046943526.py:1: DeprecationWarning: find_element_by_* commands are deprecated. Please use find_element() instead\n",
      "  elems_categoryTips = browser.find_element_by_class_name('u_categoryTipsItem').find_elements_by_tag_name('dl')\n",
      "/usr/local/lib/python3.9/site-packages/selenium/webdriver/remote/webelement.py:359: UserWarning: find_elements_by_* commands are deprecated. Please use find_elements() instead\n",
      "  warnings.warn(\"find_elements_by_* commands are deprecated. Please use find_elements() instead\")\n"
     ]
    }
   ],
   "source": [
    "elems_categoryTips = browser.find_element_by_class_name('u_categoryTipsItem').find_elements_by_tag_name('dl')\n",
    "elems_categoryTips[0].text.split('\\n')[0]\n",
    "keys = []\n",
    "values = []\n",
    "comments = []\n",
    "\n",
    "for elem_categoryTips in elems_categoryTips:\n",
    "    keys.append(elem_categoryTips.text.split('\\n')[0])\n",
    "    values.append(elem_categoryTips.text.split('\\n')[1])\n",
    "    comments.append(elem_categoryTips.text.split('\\n')[2])"
   ]
  },
  {
   "cell_type": "code",
   "execution_count": 56,
   "id": "4b0210fc",
   "metadata": {},
   "outputs": [
    {
     "data": {
      "text/plain": [
       "['楽しさ', '人混みの多さ', '景色', 'アクセス']"
      ]
     },
     "execution_count": 56,
     "metadata": {},
     "output_type": "execute_result"
    }
   ],
   "source": [
    "keys"
   ]
  },
  {
   "cell_type": "code",
   "execution_count": 57,
   "id": "08c833cd",
   "metadata": {},
   "outputs": [
    {
     "data": {
      "text/plain": [
       "['4.6', '4.5', '4.9', '4.2']"
      ]
     },
     "execution_count": 57,
     "metadata": {},
     "output_type": "execute_result"
    }
   ],
   "source": [
    "values"
   ]
  },
  {
   "cell_type": "code",
   "execution_count": 58,
   "id": "40653a1f",
   "metadata": {},
   "outputs": [
    {
     "data": {
      "text/plain": [
       "['非常に楽しい場所であった', 'まぁまぁ混んでいた', '大自然を感じることができた', 'アクセスはあまり良くなかった']"
      ]
     },
     "execution_count": 58,
     "metadata": {},
     "output_type": "execute_result"
    }
   ],
   "source": [
    "comments"
   ]
  },
  {
   "cell_type": "code",
   "execution_count": 113,
   "id": "896af171",
   "metadata": {},
   "outputs": [
    {
     "name": "stderr",
     "output_type": "stream",
     "text": [
      "/var/folders/sd/hy0ty8wx76s1wmz7v_c1nyd80000gn/T/ipykernel_49391/3368178237.py:1: DeprecationWarning: find_elements_by_* commands are deprecated. Please use find_elements() instead\n",
      "  elems_rankingBox = browser.find_elements_by_class_name('u_areaListRankingBox')\n",
      "/usr/local/lib/python3.9/site-packages/selenium/webdriver/remote/webelement.py:341: UserWarning: find_element_by_* commands are deprecated. Please use find_element() instead\n",
      "  warnings.warn(\"find_element_by_* commands are deprecated. Please use find_element() instead\")\n",
      "/usr/local/lib/python3.9/site-packages/selenium/webdriver/remote/webelement.py:446: UserWarning: find_element_by_* commands are deprecated. Please use find_element() instead\n",
      "  warnings.warn(\"find_element_by_* commands are deprecated. Please use find_element() instead\")\n",
      "/usr/local/lib/python3.9/site-packages/selenium/webdriver/remote/webelement.py:359: UserWarning: find_elements_by_* commands are deprecated. Please use find_elements() instead\n",
      "  warnings.warn(\"find_elements_by_* commands are deprecated. Please use find_elements() instead\")\n"
     ]
    }
   ],
   "source": [
    "elems_rankingBox = browser.find_elements_by_class_name('u_areaListRankingBox')\n",
    "\n",
    "titles = []\n",
    "ranks = []\n",
    "keysList = []\n",
    "valuesList = []\n",
    "commentsList = []\n",
    "\n",
    "for elem_rankingBox in elems_rankingBox:\n",
    "    titles.append(elem_rankingBox.find_element_by_tag_name('h2').text.split('\\n')[1])\n",
    "    ranks.append(elem_rankingBox.find_element_by_class_name('u_rankBox').find_element_by_class_name('evaluateNumber').text)\n",
    "    \n",
    "    elems_categoryTips = elem_rankingBox.find_elements_by_tag_name('dl')\n",
    "    \n",
    "    keys = []\n",
    "    values = []\n",
    "    comments = []\n",
    "    for elem_categoryTips in elems_categoryTips:\n",
    "        keys.append(elem_categoryTips.text.split('\\n')[0])\n",
    "        values.append(elem_categoryTips.text.split('\\n')[1])\n",
    "        comments.append(elem_categoryTips.text.split('\\n')[2])\n",
    "        \n",
    "    keysList.append(keys)\n",
    "    valuesList.append(values)\n",
    "    commentsList.append(comments)"
   ]
  },
  {
   "cell_type": "code",
   "execution_count": 114,
   "id": "8f0b9537",
   "metadata": {},
   "outputs": [
    {
     "data": {
      "text/plain": [
       "['観光地 1',\n",
       " '観光地 2',\n",
       " '観光地 3',\n",
       " '観光地 4',\n",
       " '観光地 5',\n",
       " '観光地 6',\n",
       " '観光地 7',\n",
       " '観光地 8',\n",
       " '観光地 9',\n",
       " '観光地 10']"
      ]
     },
     "execution_count": 114,
     "metadata": {},
     "output_type": "execute_result"
    }
   ],
   "source": [
    "titles"
   ]
  },
  {
   "cell_type": "code",
   "execution_count": 115,
   "id": "1abd8485",
   "metadata": {},
   "outputs": [
    {
     "data": {
      "text/plain": [
       "[['楽しさ', '人混みの多さ', '景色', 'アクセス'],\n",
       " ['楽しさ', '人混みの多さ', '景色', 'アクセス'],\n",
       " ['楽しさ', '人混みの多さ', '景色', 'アクセス'],\n",
       " ['楽しさ', '人混みの多さ', '景色', 'アクセス'],\n",
       " ['楽しさ', '人混みの多さ', '景色', 'アクセス'],\n",
       " ['楽しさ', '人混みの多さ', '景色', 'アクセス'],\n",
       " ['楽しさ', '人混みの多さ', '景色', 'アクセス'],\n",
       " ['楽しさ', '人混みの多さ', '景色', 'アクセス'],\n",
       " ['楽しさ', '人混みの多さ', '景色', 'アクセス'],\n",
       " ['楽しさ', '人混みの多さ', '景色', 'アクセス']]"
      ]
     },
     "execution_count": 115,
     "metadata": {},
     "output_type": "execute_result"
    }
   ],
   "source": [
    "keysList"
   ]
  },
  {
   "cell_type": "code",
   "execution_count": 116,
   "id": "450ff242",
   "metadata": {},
   "outputs": [
    {
     "data": {
      "text/plain": [
       "[['4.6', '4.5', '4.9', '4.2'],\n",
       " ['4.6', '4.5', '4.9', '4.2'],\n",
       " ['4.5', '4.4', '4.8', '4.1'],\n",
       " ['4.4', '4.4', '4.8', '4.0'],\n",
       " ['4.4', '4.3', '4.7', '4.0'],\n",
       " ['4.3', '4.3', '4.7', '3.9'],\n",
       " ['4.2', '4.2', '4.6', '3.8'],\n",
       " ['4.2', '4.2', '4.6', '3.8'],\n",
       " ['4.1', '4.1', '4.5', '3.7'],\n",
       " ['4.0', '4.1', '4.4', '3.6']]"
      ]
     },
     "execution_count": 116,
     "metadata": {},
     "output_type": "execute_result"
    }
   ],
   "source": [
    "valuesList"
   ]
  },
  {
   "cell_type": "code",
   "execution_count": 117,
   "id": "4992b8f9",
   "metadata": {},
   "outputs": [
    {
     "data": {
      "text/plain": [
       "[['非常に楽しい場所であった', 'まぁまぁ混んでいた', '大自然を感じることができた', 'アクセスはあまり良くなかった'],\n",
       " ['楽しくて帰りたくなかった', '非常に空いていた', '時を忘れるような壮大さであった', '船で2時間ほどであった'],\n",
       " ['満喫できた', '非常に混んでいた', '目を疑う超絶景であった', '船で1時間ほどであった'],\n",
       " ['非常に楽しい場所であった', 'お昼の時間はかなり混んでいた', '目を疑う超絶景であった', 'アクセスはあまり良くなかった'],\n",
       " ['THE非日常', '時間帯によって混雑具合は違った', '時を忘れるような壮大さであった', '飛行機で1時間ほどで着きました'],\n",
       " ['１日中飽きることなく遊び続けられた', '空いていた', '山頂からの景色は絶景であった', '渋滞に巻き込まれて3時間以上かかった'],\n",
       " ['１日中飽きることなく遊び続けられた', 'お昼の時間はかなり混んでいた', '海が非常に綺麗であった', '飛行機で1時間ほどで着きました'],\n",
       " ['THE非日常', '非常に空いていた', '海が非常に綺麗であった', '交通の便が悪かった'],\n",
       " ['楽しくて帰りたくなかった', '空いていた', '景色に魅了された', '渋滞に巻き込まれて3時間以上かかった'],\n",
       " ['満喫できた', '非常に混んでいた', '信じられないような絶景であった', '船で1時間ほどであった']]"
      ]
     },
     "execution_count": 117,
     "metadata": {},
     "output_type": "execute_result"
    }
   ],
   "source": [
    "commentsList"
   ]
  },
  {
   "cell_type": "code",
   "execution_count": 118,
   "id": "a3bd638c",
   "metadata": {},
   "outputs": [],
   "source": [
    "import pandas as pd"
   ]
  },
  {
   "cell_type": "code",
   "execution_count": 119,
   "id": "12529e73",
   "metadata": {},
   "outputs": [],
   "source": [
    "df = pd.DataFrame()"
   ]
  },
  {
   "cell_type": "code",
   "execution_count": 120,
   "id": "78914082",
   "metadata": {},
   "outputs": [],
   "source": [
    "df['観光地名'] = titles\n",
    "df['総合評価'] = ranks\n",
    "df['項目'] = keysList\n",
    "df['評価'] = valuesList\n",
    "df['コメント'] = commentsList"
   ]
  },
  {
   "cell_type": "code",
   "execution_count": 121,
   "id": "028ee8f7",
   "metadata": {},
   "outputs": [
    {
     "data": {
      "text/html": [
       "<div>\n",
       "<style scoped>\n",
       "    .dataframe tbody tr th:only-of-type {\n",
       "        vertical-align: middle;\n",
       "    }\n",
       "\n",
       "    .dataframe tbody tr th {\n",
       "        vertical-align: top;\n",
       "    }\n",
       "\n",
       "    .dataframe thead th {\n",
       "        text-align: right;\n",
       "    }\n",
       "</style>\n",
       "<table border=\"1\" class=\"dataframe\">\n",
       "  <thead>\n",
       "    <tr style=\"text-align: right;\">\n",
       "      <th></th>\n",
       "      <th>観光地名</th>\n",
       "      <th>総合評価</th>\n",
       "      <th>項目</th>\n",
       "      <th>評価</th>\n",
       "      <th>コメント</th>\n",
       "    </tr>\n",
       "  </thead>\n",
       "  <tbody>\n",
       "    <tr>\n",
       "      <th>0</th>\n",
       "      <td>観光地 1</td>\n",
       "      <td>4.7</td>\n",
       "      <td>[楽しさ, 人混みの多さ, 景色, アクセス]</td>\n",
       "      <td>[4.6, 4.5, 4.9, 4.2]</td>\n",
       "      <td>[非常に楽しい場所であった, まぁまぁ混んでいた, 大自然を感じることができた, アクセスは...</td>\n",
       "    </tr>\n",
       "    <tr>\n",
       "      <th>1</th>\n",
       "      <td>観光地 2</td>\n",
       "      <td>4.7</td>\n",
       "      <td>[楽しさ, 人混みの多さ, 景色, アクセス]</td>\n",
       "      <td>[4.6, 4.5, 4.9, 4.2]</td>\n",
       "      <td>[楽しくて帰りたくなかった, 非常に空いていた, 時を忘れるような壮大さであった, 船で2時...</td>\n",
       "    </tr>\n",
       "    <tr>\n",
       "      <th>2</th>\n",
       "      <td>観光地 3</td>\n",
       "      <td>4.6</td>\n",
       "      <td>[楽しさ, 人混みの多さ, 景色, アクセス]</td>\n",
       "      <td>[4.5, 4.4, 4.8, 4.1]</td>\n",
       "      <td>[満喫できた, 非常に混んでいた, 目を疑う超絶景であった, 船で1時間ほどであった]</td>\n",
       "    </tr>\n",
       "    <tr>\n",
       "      <th>3</th>\n",
       "      <td>観光地 4</td>\n",
       "      <td>4.5</td>\n",
       "      <td>[楽しさ, 人混みの多さ, 景色, アクセス]</td>\n",
       "      <td>[4.4, 4.4, 4.8, 4.0]</td>\n",
       "      <td>[非常に楽しい場所であった, お昼の時間はかなり混んでいた, 目を疑う超絶景であった, アク...</td>\n",
       "    </tr>\n",
       "    <tr>\n",
       "      <th>4</th>\n",
       "      <td>観光地 5</td>\n",
       "      <td>4.5</td>\n",
       "      <td>[楽しさ, 人混みの多さ, 景色, アクセス]</td>\n",
       "      <td>[4.4, 4.3, 4.7, 4.0]</td>\n",
       "      <td>[THE非日常, 時間帯によって混雑具合は違った, 時を忘れるような壮大さであった, 飛行機...</td>\n",
       "    </tr>\n",
       "    <tr>\n",
       "      <th>5</th>\n",
       "      <td>観光地 6</td>\n",
       "      <td>4.4</td>\n",
       "      <td>[楽しさ, 人混みの多さ, 景色, アクセス]</td>\n",
       "      <td>[4.3, 4.3, 4.7, 3.9]</td>\n",
       "      <td>[１日中飽きることなく遊び続けられた, 空いていた, 山頂からの景色は絶景であった, 渋滞に...</td>\n",
       "    </tr>\n",
       "    <tr>\n",
       "      <th>6</th>\n",
       "      <td>観光地 7</td>\n",
       "      <td>4.3</td>\n",
       "      <td>[楽しさ, 人混みの多さ, 景色, アクセス]</td>\n",
       "      <td>[4.2, 4.2, 4.6, 3.8]</td>\n",
       "      <td>[１日中飽きることなく遊び続けられた, お昼の時間はかなり混んでいた, 海が非常に綺麗であっ...</td>\n",
       "    </tr>\n",
       "    <tr>\n",
       "      <th>7</th>\n",
       "      <td>観光地 8</td>\n",
       "      <td>4.3</td>\n",
       "      <td>[楽しさ, 人混みの多さ, 景色, アクセス]</td>\n",
       "      <td>[4.2, 4.2, 4.6, 3.8]</td>\n",
       "      <td>[THE非日常, 非常に空いていた, 海が非常に綺麗であった, 交通の便が悪かった]</td>\n",
       "    </tr>\n",
       "    <tr>\n",
       "      <th>8</th>\n",
       "      <td>観光地 9</td>\n",
       "      <td>4.2</td>\n",
       "      <td>[楽しさ, 人混みの多さ, 景色, アクセス]</td>\n",
       "      <td>[4.1, 4.1, 4.5, 3.7]</td>\n",
       "      <td>[楽しくて帰りたくなかった, 空いていた, 景色に魅了された, 渋滞に巻き込まれて3時間以上...</td>\n",
       "    </tr>\n",
       "    <tr>\n",
       "      <th>9</th>\n",
       "      <td>観光地 10</td>\n",
       "      <td>4.1</td>\n",
       "      <td>[楽しさ, 人混みの多さ, 景色, アクセス]</td>\n",
       "      <td>[4.0, 4.1, 4.4, 3.6]</td>\n",
       "      <td>[満喫できた, 非常に混んでいた, 信じられないような絶景であった, 船で1時間ほどであった]</td>\n",
       "    </tr>\n",
       "  </tbody>\n",
       "</table>\n",
       "</div>"
      ],
      "text/plain": [
       "     観光地名  ...                                               コメント\n",
       "0   観光地 1  ...  [非常に楽しい場所であった, まぁまぁ混んでいた, 大自然を感じることができた, アクセスは...\n",
       "1   観光地 2  ...  [楽しくて帰りたくなかった, 非常に空いていた, 時を忘れるような壮大さであった, 船で2時...\n",
       "2   観光地 3  ...        [満喫できた, 非常に混んでいた, 目を疑う超絶景であった, 船で1時間ほどであった]\n",
       "3   観光地 4  ...  [非常に楽しい場所であった, お昼の時間はかなり混んでいた, 目を疑う超絶景であった, アク...\n",
       "4   観光地 5  ...  [THE非日常, 時間帯によって混雑具合は違った, 時を忘れるような壮大さであった, 飛行機...\n",
       "5   観光地 6  ...  [１日中飽きることなく遊び続けられた, 空いていた, 山頂からの景色は絶景であった, 渋滞に...\n",
       "6   観光地 7  ...  [１日中飽きることなく遊び続けられた, お昼の時間はかなり混んでいた, 海が非常に綺麗であっ...\n",
       "7   観光地 8  ...         [THE非日常, 非常に空いていた, 海が非常に綺麗であった, 交通の便が悪かった]\n",
       "8   観光地 9  ...  [楽しくて帰りたくなかった, 空いていた, 景色に魅了された, 渋滞に巻き込まれて3時間以上...\n",
       "9  観光地 10  ...    [満喫できた, 非常に混んでいた, 信じられないような絶景であった, 船で1時間ほどであった]\n",
       "\n",
       "[10 rows x 5 columns]"
      ]
     },
     "execution_count": 121,
     "metadata": {},
     "output_type": "execute_result"
    }
   ],
   "source": [
    "df"
   ]
  },
  {
   "cell_type": "code",
   "execution_count": 126,
   "id": "63b220ff",
   "metadata": {},
   "outputs": [
    {
     "name": "stderr",
     "output_type": "stream",
     "text": [
      "/var/folders/sd/hy0ty8wx76s1wmz7v_c1nyd80000gn/T/ipykernel_49391/3908526229.py:10: DeprecationWarning: find_elements_by_* commands are deprecated. Please use find_elements() instead\n",
      "  elems_rankingBox = browser.find_elements_by_class_name('u_areaListRankingBox')\n"
     ]
    }
   ],
   "source": [
    "titles = []\n",
    "ranks = []\n",
    "keysList = []\n",
    "valuesList = []\n",
    "commentsList = []\n",
    "\n",
    "for page in range(1, 4):\n",
    "    url = 'https://scraping-for-beginner.herokuapp.com/ranking/?page={}'.format(page)\n",
    "    browser.get(url)\n",
    "    elems_rankingBox = browser.find_elements_by_class_name('u_areaListRankingBox')\n",
    "    \n",
    "    for elem_rankingBox in elems_rankingBox:\n",
    "        titles.append(elem_rankingBox.find_element_by_tag_name('h2').text.split('\\n')[1])\n",
    "        ranks.append(elem_rankingBox.find_element_by_class_name('u_rankBox').find_element_by_class_name('evaluateNumber').text)\n",
    "\n",
    "        elems_categoryTips = elem_rankingBox.find_elements_by_tag_name('dl')\n",
    "\n",
    "        keys = []\n",
    "        values = []\n",
    "        comments = []\n",
    "        for elem_categoryTips in elems_categoryTips:\n",
    "            keys.append(elem_categoryTips.text.split('\\n')[0])\n",
    "            values.append(elem_categoryTips.text.split('\\n')[1])\n",
    "            comments.append(elem_categoryTips.text.split('\\n')[2])\n",
    "        \n",
    "        keysList.append(keys)\n",
    "        valuesList.append(values)\n",
    "        commentsList.append(comments)\n",
    "    "
   ]
  },
  {
   "cell_type": "code",
   "execution_count": 127,
   "id": "76be84d9",
   "metadata": {},
   "outputs": [
    {
     "data": {
      "text/plain": [
       "['観光地 1',\n",
       " '観光地 2',\n",
       " '観光地 3',\n",
       " '観光地 4',\n",
       " '観光地 5',\n",
       " '観光地 6',\n",
       " '観光地 7',\n",
       " '観光地 8',\n",
       " '観光地 9',\n",
       " '観光地 10',\n",
       " '観光地 11',\n",
       " '観光地 12',\n",
       " '観光地 13',\n",
       " '観光地 14',\n",
       " '観光地 15',\n",
       " '観光地 16',\n",
       " '観光地 17',\n",
       " '観光地 18',\n",
       " '観光地 19',\n",
       " '観光地 20',\n",
       " '観光地 21',\n",
       " '観光地 22',\n",
       " '観光地 23',\n",
       " '観光地 24',\n",
       " '観光地 25',\n",
       " '観光地 26',\n",
       " '観光地 27',\n",
       " '観光地 28',\n",
       " '観光地 29',\n",
       " '観光地 30']"
      ]
     },
     "execution_count": 127,
     "metadata": {},
     "output_type": "execute_result"
    }
   ],
   "source": [
    "titles"
   ]
  },
  {
   "cell_type": "code",
   "execution_count": 128,
   "id": "9ea1092b",
   "metadata": {},
   "outputs": [
    {
     "data": {
      "text/plain": [
       "['4.7',\n",
       " '4.7',\n",
       " '4.6',\n",
       " '4.5',\n",
       " '4.5',\n",
       " '4.4',\n",
       " '4.3',\n",
       " '4.3',\n",
       " '4.2',\n",
       " '4.1',\n",
       " '4.1',\n",
       " '4.0',\n",
       " '3.9',\n",
       " '3.9',\n",
       " '3.8',\n",
       " '3.7',\n",
       " '3.7',\n",
       " '3.6',\n",
       " '3.5',\n",
       " '3.5',\n",
       " '3.4',\n",
       " '3.3',\n",
       " '3.3',\n",
       " '3.2',\n",
       " '3.1',\n",
       " '3.1',\n",
       " '3.0',\n",
       " '2.9',\n",
       " '2.9',\n",
       " '2.8']"
      ]
     },
     "execution_count": 128,
     "metadata": {},
     "output_type": "execute_result"
    }
   ],
   "source": [
    "ranks"
   ]
  },
  {
   "cell_type": "code",
   "execution_count": 129,
   "id": "e0f09ee6",
   "metadata": {},
   "outputs": [
    {
     "data": {
      "text/plain": [
       "[['楽しさ', '人混みの多さ', '景色', 'アクセス'],\n",
       " ['楽しさ', '人混みの多さ', '景色', 'アクセス'],\n",
       " ['楽しさ', '人混みの多さ', '景色', 'アクセス'],\n",
       " ['楽しさ', '人混みの多さ', '景色', 'アクセス'],\n",
       " ['楽しさ', '人混みの多さ', '景色', 'アクセス'],\n",
       " ['楽しさ', '人混みの多さ', '景色', 'アクセス'],\n",
       " ['楽しさ', '人混みの多さ', '景色', 'アクセス'],\n",
       " ['楽しさ', '人混みの多さ', '景色', 'アクセス'],\n",
       " ['楽しさ', '人混みの多さ', '景色', 'アクセス'],\n",
       " ['楽しさ', '人混みの多さ', '景色', 'アクセス'],\n",
       " ['楽しさ', '人混みの多さ', '景色', 'アクセス'],\n",
       " ['楽しさ', '人混みの多さ', '景色', 'アクセス'],\n",
       " ['楽しさ', '人混みの多さ', '景色', 'アクセス'],\n",
       " ['楽しさ', '人混みの多さ', '景色', 'アクセス'],\n",
       " ['楽しさ', '人混みの多さ', '景色', 'アクセス'],\n",
       " ['楽しさ', '人混みの多さ', '景色', 'アクセス'],\n",
       " ['楽しさ', '人混みの多さ', '景色', 'アクセス'],\n",
       " ['楽しさ', '人混みの多さ', '景色', 'アクセス'],\n",
       " ['楽しさ', '人混みの多さ', '景色', 'アクセス'],\n",
       " ['楽しさ', '人混みの多さ', '景色', 'アクセス'],\n",
       " ['楽しさ', '人混みの多さ', '景色', 'アクセス'],\n",
       " ['楽しさ', '人混みの多さ', '景色', 'アクセス'],\n",
       " ['楽しさ', '人混みの多さ', '景色', 'アクセス'],\n",
       " ['楽しさ', '人混みの多さ', '景色', 'アクセス'],\n",
       " ['楽しさ', '人混みの多さ', '景色', 'アクセス'],\n",
       " ['楽しさ', '人混みの多さ', '景色', 'アクセス'],\n",
       " ['楽しさ', '人混みの多さ', '景色', 'アクセス'],\n",
       " ['楽しさ', '人混みの多さ', '景色', 'アクセス'],\n",
       " ['楽しさ', '人混みの多さ', '景色', 'アクセス'],\n",
       " ['楽しさ', '人混みの多さ', '景色', 'アクセス']]"
      ]
     },
     "execution_count": 129,
     "metadata": {},
     "output_type": "execute_result"
    }
   ],
   "source": [
    "keysList"
   ]
  },
  {
   "cell_type": "code",
   "execution_count": 130,
   "id": "5d51df3a",
   "metadata": {},
   "outputs": [
    {
     "data": {
      "text/plain": [
       "[['4.6', '4.5', '4.9', '4.2'],\n",
       " ['4.6', '4.5', '4.9', '4.2'],\n",
       " ['4.5', '4.4', '4.8', '4.1'],\n",
       " ['4.4', '4.4', '4.8', '4.0'],\n",
       " ['4.4', '4.3', '4.7', '4.0'],\n",
       " ['4.3', '4.3', '4.7', '3.9'],\n",
       " ['4.2', '4.2', '4.6', '3.8'],\n",
       " ['4.2', '4.2', '4.6', '3.8'],\n",
       " ['4.1', '4.1', '4.5', '3.7'],\n",
       " ['4.0', '4.1', '4.4', '3.6'],\n",
       " ['4.0', '4.0', '4.4', '3.6'],\n",
       " ['3.9', '4.0', '4.3', '3.5'],\n",
       " ['3.8', '3.9', '4.3', '3.4'],\n",
       " ['3.8', '3.9', '4.2', '3.4'],\n",
       " ['3.7', '3.8', '4.2', '3.3'],\n",
       " ['3.6', '3.8', '4.1', '3.2'],\n",
       " ['3.6', '3.7', '4.1', '3.2'],\n",
       " ['3.5', '3.7', '4.0', '3.1'],\n",
       " ['3.4', '3.6', '3.9', '3.0'],\n",
       " ['3.4', '3.6', '3.9', '3.0'],\n",
       " ['3.3', '3.5', '3.8', '2.9'],\n",
       " ['3.2', '3.5', '3.8', '2.8'],\n",
       " ['3.2', '3.4', '3.7', '2.8'],\n",
       " ['3.1', '3.4', '3.7', '2.7'],\n",
       " ['3.0', '3.3', '3.6', '2.6'],\n",
       " ['3.0', '3.3', '3.6', '2.6'],\n",
       " ['2.9', '3.2', '3.5', '2.5'],\n",
       " ['2.8', '3.2', '3.4', '2.4'],\n",
       " ['2.8', '3.1', '3.4', '2.4'],\n",
       " ['2.7', '3.1', '3.3', '2.3']]"
      ]
     },
     "execution_count": 130,
     "metadata": {},
     "output_type": "execute_result"
    }
   ],
   "source": [
    "valuesList"
   ]
  },
  {
   "cell_type": "code",
   "execution_count": 131,
   "id": "4c188b2a",
   "metadata": {},
   "outputs": [
    {
     "data": {
      "text/plain": [
       "[['１日中飽きることなく遊び続けられた', '非常に空いていた', '自然の素晴らしさを味わった', '市内から車で2時間ほどであった'],\n",
       " ['一人旅には最適でした', '非常に空いていた', '山頂からの景色は絶景であった', '渋滞に巻き込まれて3時間以上かかった'],\n",
       " ['また行きたいと思える場所でした！！', 'お昼の時間はかなり混んでいた', '山頂からの景色は絶景であった', '交通の便が悪かった'],\n",
       " ['満喫できた', '非常に混んでいた', '景色に魅了された', '飛行機で1時間ほどで着きました'],\n",
       " ['１日中飽きることなく遊び続けられた', '時間帯によって混雑具合は違った', '大自然を感じることができた', '船で1時間ほどであった'],\n",
       " ['満喫できた', '非常に混んでいた', '時を忘れるような壮大さであった', 'アクセスはあまり良くなかった'],\n",
       " ['とてもエンジョイした', 'まぁまぁ混んでいた', '目を疑う超絶景であった', '市内から車で2時間ほどであった'],\n",
       " ['楽しくて帰りたくなかった', 'お昼の時間はかなり混んでいた', '海が非常に綺麗であった', '船で2時間ほどであった'],\n",
       " ['とてもエンジョイした', '時間帯によって混雑具合は違った', '信じられないような絶景であった', '交通の便が悪かった'],\n",
       " ['また行きたいと思える場所でした！！', '空いていた', '信じられないような絶景であった', '船で1時間ほどであった'],\n",
       " ['楽しくて帰りたくなかった', '非常に空いていた', '時を忘れるような壮大さであった', '飛行機で1時間ほどで着きました'],\n",
       " ['一人旅には最適でした', '時間帯によって混雑具合は違った', '信じられないような絶景であった', '船で1時間ほどであった'],\n",
       " ['一人旅には最適でした', 'お昼の時間はかなり混んでいた', '海が非常に綺麗であった', 'アクセスはあまり良くなかった'],\n",
       " ['非常に楽しい場所であった', '空いていた', '大自然を感じることができた', '交通の便が悪かった'],\n",
       " ['満喫できた', '非常に空いていた', '大自然を感じることができた', '船で1時間ほどであった'],\n",
       " ['また行きたいと思える場所でした！！', '時間帯によって混雑具合は違った', '海が非常に綺麗であった', 'アクセスはあまり良くなかった'],\n",
       " ['とてもエンジョイした', '非常に混んでいた', '景色に魅了された', '船で2時間ほどであった'],\n",
       " ['非常に楽しい場所であった', 'まぁまぁ混んでいた', '目を疑う超絶景であった', '渋滞に巻き込まれて3時間以上かかった'],\n",
       " ['THE非日常', 'まぁまぁ混んでいた', '自然の素晴らしさを味わった', '渋滞に巻き込まれて3時間以上かかった'],\n",
       " ['１日中飽きることなく遊び続けられた', '非常に混んでいた', '時を忘れるような壮大さであった', '市内から車で2時間ほどであった'],\n",
       " ['非常に楽しい場所であった', 'お昼の時間はかなり混んでいた', '景色に魅了された', '船で1時間ほどであった'],\n",
       " ['THE非日常', '非常に空いていた', '信じられないような絶景であった', '渋滞に巻き込まれて3時間以上かかった'],\n",
       " ['満喫できた', '非常に空いていた', '山頂からの景色は絶景であった', '市内から車で2時間ほどであった'],\n",
       " ['楽しくて帰りたくなかった', 'まぁまぁ混んでいた', '景色に魅了された', '市内から車で2時間ほどであった'],\n",
       " ['一人旅には最適でした', '空いていた', '信じられないような絶景であった', '船で2時間ほどであった'],\n",
       " ['満喫できた', '空いていた', '海が非常に綺麗であった', '船で2時間ほどであった'],\n",
       " ['一人旅には最適でした', '非常に混んでいた', '自然の素晴らしさを味わった', 'アクセスはあまり良くなかった'],\n",
       " ['１日中飽きることなく遊び続けられた', '時間帯によって混雑具合は違った', '山頂からの景色は絶景であった', '交通の便が悪かった'],\n",
       " ['THE非日常', '非常に混んでいた', '時を忘れるような壮大さであった', 'アクセスはあまり良くなかった'],\n",
       " ['また行きたいと思える場所でした！！', 'お昼の時間はかなり混んでいた', '目を疑う超絶景であった', '飛行機で1時間ほどで着きました']]"
      ]
     },
     "execution_count": 131,
     "metadata": {},
     "output_type": "execute_result"
    }
   ],
   "source": [
    "commentsList"
   ]
  },
  {
   "cell_type": "code",
   "execution_count": 132,
   "id": "dda4f590",
   "metadata": {},
   "outputs": [
    {
     "data": {
      "text/html": [
       "<div>\n",
       "<style scoped>\n",
       "    .dataframe tbody tr th:only-of-type {\n",
       "        vertical-align: middle;\n",
       "    }\n",
       "\n",
       "    .dataframe tbody tr th {\n",
       "        vertical-align: top;\n",
       "    }\n",
       "\n",
       "    .dataframe thead th {\n",
       "        text-align: right;\n",
       "    }\n",
       "</style>\n",
       "<table border=\"1\" class=\"dataframe\">\n",
       "  <thead>\n",
       "    <tr style=\"text-align: right;\">\n",
       "      <th></th>\n",
       "      <th>観光地名</th>\n",
       "      <th>総合評価</th>\n",
       "      <th>項目</th>\n",
       "      <th>評価</th>\n",
       "      <th>コメント</th>\n",
       "    </tr>\n",
       "  </thead>\n",
       "  <tbody>\n",
       "    <tr>\n",
       "      <th>0</th>\n",
       "      <td>観光地 1</td>\n",
       "      <td>4.7</td>\n",
       "      <td>[楽しさ, 人混みの多さ, 景色, アクセス]</td>\n",
       "      <td>[4.6, 4.5, 4.9, 4.2]</td>\n",
       "      <td>[１日中飽きることなく遊び続けられた, 非常に空いていた, 自然の素晴らしさを味わった, 市...</td>\n",
       "    </tr>\n",
       "    <tr>\n",
       "      <th>1</th>\n",
       "      <td>観光地 2</td>\n",
       "      <td>4.7</td>\n",
       "      <td>[楽しさ, 人混みの多さ, 景色, アクセス]</td>\n",
       "      <td>[4.6, 4.5, 4.9, 4.2]</td>\n",
       "      <td>[一人旅には最適でした, 非常に空いていた, 山頂からの景色は絶景であった, 渋滞に巻き込ま...</td>\n",
       "    </tr>\n",
       "    <tr>\n",
       "      <th>2</th>\n",
       "      <td>観光地 3</td>\n",
       "      <td>4.6</td>\n",
       "      <td>[楽しさ, 人混みの多さ, 景色, アクセス]</td>\n",
       "      <td>[4.5, 4.4, 4.8, 4.1]</td>\n",
       "      <td>[また行きたいと思える場所でした！！, お昼の時間はかなり混んでいた, 山頂からの景色は絶景...</td>\n",
       "    </tr>\n",
       "    <tr>\n",
       "      <th>3</th>\n",
       "      <td>観光地 4</td>\n",
       "      <td>4.5</td>\n",
       "      <td>[楽しさ, 人混みの多さ, 景色, アクセス]</td>\n",
       "      <td>[4.4, 4.4, 4.8, 4.0]</td>\n",
       "      <td>[満喫できた, 非常に混んでいた, 景色に魅了された, 飛行機で1時間ほどで着きました]</td>\n",
       "    </tr>\n",
       "    <tr>\n",
       "      <th>4</th>\n",
       "      <td>観光地 5</td>\n",
       "      <td>4.5</td>\n",
       "      <td>[楽しさ, 人混みの多さ, 景色, アクセス]</td>\n",
       "      <td>[4.4, 4.3, 4.7, 4.0]</td>\n",
       "      <td>[１日中飽きることなく遊び続けられた, 時間帯によって混雑具合は違った, 大自然を感じること...</td>\n",
       "    </tr>\n",
       "    <tr>\n",
       "      <th>5</th>\n",
       "      <td>観光地 6</td>\n",
       "      <td>4.4</td>\n",
       "      <td>[楽しさ, 人混みの多さ, 景色, アクセス]</td>\n",
       "      <td>[4.3, 4.3, 4.7, 3.9]</td>\n",
       "      <td>[満喫できた, 非常に混んでいた, 時を忘れるような壮大さであった, アクセスはあまり良くな...</td>\n",
       "    </tr>\n",
       "    <tr>\n",
       "      <th>6</th>\n",
       "      <td>観光地 7</td>\n",
       "      <td>4.3</td>\n",
       "      <td>[楽しさ, 人混みの多さ, 景色, アクセス]</td>\n",
       "      <td>[4.2, 4.2, 4.6, 3.8]</td>\n",
       "      <td>[とてもエンジョイした, まぁまぁ混んでいた, 目を疑う超絶景であった, 市内から車で2時間...</td>\n",
       "    </tr>\n",
       "    <tr>\n",
       "      <th>7</th>\n",
       "      <td>観光地 8</td>\n",
       "      <td>4.3</td>\n",
       "      <td>[楽しさ, 人混みの多さ, 景色, アクセス]</td>\n",
       "      <td>[4.2, 4.2, 4.6, 3.8]</td>\n",
       "      <td>[楽しくて帰りたくなかった, お昼の時間はかなり混んでいた, 海が非常に綺麗であった, 船で...</td>\n",
       "    </tr>\n",
       "    <tr>\n",
       "      <th>8</th>\n",
       "      <td>観光地 9</td>\n",
       "      <td>4.2</td>\n",
       "      <td>[楽しさ, 人混みの多さ, 景色, アクセス]</td>\n",
       "      <td>[4.1, 4.1, 4.5, 3.7]</td>\n",
       "      <td>[とてもエンジョイした, 時間帯によって混雑具合は違った, 信じられないような絶景であった,...</td>\n",
       "    </tr>\n",
       "    <tr>\n",
       "      <th>9</th>\n",
       "      <td>観光地 10</td>\n",
       "      <td>4.1</td>\n",
       "      <td>[楽しさ, 人混みの多さ, 景色, アクセス]</td>\n",
       "      <td>[4.0, 4.1, 4.4, 3.6]</td>\n",
       "      <td>[また行きたいと思える場所でした！！, 空いていた, 信じられないような絶景であった, 船で...</td>\n",
       "    </tr>\n",
       "    <tr>\n",
       "      <th>10</th>\n",
       "      <td>観光地 11</td>\n",
       "      <td>4.1</td>\n",
       "      <td>[楽しさ, 人混みの多さ, 景色, アクセス]</td>\n",
       "      <td>[4.0, 4.0, 4.4, 3.6]</td>\n",
       "      <td>[楽しくて帰りたくなかった, 非常に空いていた, 時を忘れるような壮大さであった, 飛行機で...</td>\n",
       "    </tr>\n",
       "    <tr>\n",
       "      <th>11</th>\n",
       "      <td>観光地 12</td>\n",
       "      <td>4.0</td>\n",
       "      <td>[楽しさ, 人混みの多さ, 景色, アクセス]</td>\n",
       "      <td>[3.9, 4.0, 4.3, 3.5]</td>\n",
       "      <td>[一人旅には最適でした, 時間帯によって混雑具合は違った, 信じられないような絶景であった,...</td>\n",
       "    </tr>\n",
       "    <tr>\n",
       "      <th>12</th>\n",
       "      <td>観光地 13</td>\n",
       "      <td>3.9</td>\n",
       "      <td>[楽しさ, 人混みの多さ, 景色, アクセス]</td>\n",
       "      <td>[3.8, 3.9, 4.3, 3.4]</td>\n",
       "      <td>[一人旅には最適でした, お昼の時間はかなり混んでいた, 海が非常に綺麗であった, アクセス...</td>\n",
       "    </tr>\n",
       "    <tr>\n",
       "      <th>13</th>\n",
       "      <td>観光地 14</td>\n",
       "      <td>3.9</td>\n",
       "      <td>[楽しさ, 人混みの多さ, 景色, アクセス]</td>\n",
       "      <td>[3.8, 3.9, 4.2, 3.4]</td>\n",
       "      <td>[非常に楽しい場所であった, 空いていた, 大自然を感じることができた, 交通の便が悪かった]</td>\n",
       "    </tr>\n",
       "    <tr>\n",
       "      <th>14</th>\n",
       "      <td>観光地 15</td>\n",
       "      <td>3.8</td>\n",
       "      <td>[楽しさ, 人混みの多さ, 景色, アクセス]</td>\n",
       "      <td>[3.7, 3.8, 4.2, 3.3]</td>\n",
       "      <td>[満喫できた, 非常に空いていた, 大自然を感じることができた, 船で1時間ほどであった]</td>\n",
       "    </tr>\n",
       "    <tr>\n",
       "      <th>15</th>\n",
       "      <td>観光地 16</td>\n",
       "      <td>3.7</td>\n",
       "      <td>[楽しさ, 人混みの多さ, 景色, アクセス]</td>\n",
       "      <td>[3.6, 3.8, 4.1, 3.2]</td>\n",
       "      <td>[また行きたいと思える場所でした！！, 時間帯によって混雑具合は違った, 海が非常に綺麗であ...</td>\n",
       "    </tr>\n",
       "    <tr>\n",
       "      <th>16</th>\n",
       "      <td>観光地 17</td>\n",
       "      <td>3.7</td>\n",
       "      <td>[楽しさ, 人混みの多さ, 景色, アクセス]</td>\n",
       "      <td>[3.6, 3.7, 4.1, 3.2]</td>\n",
       "      <td>[とてもエンジョイした, 非常に混んでいた, 景色に魅了された, 船で2時間ほどであった]</td>\n",
       "    </tr>\n",
       "    <tr>\n",
       "      <th>17</th>\n",
       "      <td>観光地 18</td>\n",
       "      <td>3.6</td>\n",
       "      <td>[楽しさ, 人混みの多さ, 景色, アクセス]</td>\n",
       "      <td>[3.5, 3.7, 4.0, 3.1]</td>\n",
       "      <td>[非常に楽しい場所であった, まぁまぁ混んでいた, 目を疑う超絶景であった, 渋滞に巻き込ま...</td>\n",
       "    </tr>\n",
       "    <tr>\n",
       "      <th>18</th>\n",
       "      <td>観光地 19</td>\n",
       "      <td>3.5</td>\n",
       "      <td>[楽しさ, 人混みの多さ, 景色, アクセス]</td>\n",
       "      <td>[3.4, 3.6, 3.9, 3.0]</td>\n",
       "      <td>[THE非日常, まぁまぁ混んでいた, 自然の素晴らしさを味わった, 渋滞に巻き込まれて3時...</td>\n",
       "    </tr>\n",
       "    <tr>\n",
       "      <th>19</th>\n",
       "      <td>観光地 20</td>\n",
       "      <td>3.5</td>\n",
       "      <td>[楽しさ, 人混みの多さ, 景色, アクセス]</td>\n",
       "      <td>[3.4, 3.6, 3.9, 3.0]</td>\n",
       "      <td>[１日中飽きることなく遊び続けられた, 非常に混んでいた, 時を忘れるような壮大さであった,...</td>\n",
       "    </tr>\n",
       "    <tr>\n",
       "      <th>20</th>\n",
       "      <td>観光地 21</td>\n",
       "      <td>3.4</td>\n",
       "      <td>[楽しさ, 人混みの多さ, 景色, アクセス]</td>\n",
       "      <td>[3.3, 3.5, 3.8, 2.9]</td>\n",
       "      <td>[非常に楽しい場所であった, お昼の時間はかなり混んでいた, 景色に魅了された, 船で1時間...</td>\n",
       "    </tr>\n",
       "    <tr>\n",
       "      <th>21</th>\n",
       "      <td>観光地 22</td>\n",
       "      <td>3.3</td>\n",
       "      <td>[楽しさ, 人混みの多さ, 景色, アクセス]</td>\n",
       "      <td>[3.2, 3.5, 3.8, 2.8]</td>\n",
       "      <td>[THE非日常, 非常に空いていた, 信じられないような絶景であった, 渋滞に巻き込まれて3...</td>\n",
       "    </tr>\n",
       "    <tr>\n",
       "      <th>22</th>\n",
       "      <td>観光地 23</td>\n",
       "      <td>3.3</td>\n",
       "      <td>[楽しさ, 人混みの多さ, 景色, アクセス]</td>\n",
       "      <td>[3.2, 3.4, 3.7, 2.8]</td>\n",
       "      <td>[満喫できた, 非常に空いていた, 山頂からの景色は絶景であった, 市内から車で2時間ほどで...</td>\n",
       "    </tr>\n",
       "    <tr>\n",
       "      <th>23</th>\n",
       "      <td>観光地 24</td>\n",
       "      <td>3.2</td>\n",
       "      <td>[楽しさ, 人混みの多さ, 景色, アクセス]</td>\n",
       "      <td>[3.1, 3.4, 3.7, 2.7]</td>\n",
       "      <td>[楽しくて帰りたくなかった, まぁまぁ混んでいた, 景色に魅了された, 市内から車で2時間ほ...</td>\n",
       "    </tr>\n",
       "    <tr>\n",
       "      <th>24</th>\n",
       "      <td>観光地 25</td>\n",
       "      <td>3.1</td>\n",
       "      <td>[楽しさ, 人混みの多さ, 景色, アクセス]</td>\n",
       "      <td>[3.0, 3.3, 3.6, 2.6]</td>\n",
       "      <td>[一人旅には最適でした, 空いていた, 信じられないような絶景であった, 船で2時間ほどであった]</td>\n",
       "    </tr>\n",
       "    <tr>\n",
       "      <th>25</th>\n",
       "      <td>観光地 26</td>\n",
       "      <td>3.1</td>\n",
       "      <td>[楽しさ, 人混みの多さ, 景色, アクセス]</td>\n",
       "      <td>[3.0, 3.3, 3.6, 2.6]</td>\n",
       "      <td>[満喫できた, 空いていた, 海が非常に綺麗であった, 船で2時間ほどであった]</td>\n",
       "    </tr>\n",
       "    <tr>\n",
       "      <th>26</th>\n",
       "      <td>観光地 27</td>\n",
       "      <td>3.0</td>\n",
       "      <td>[楽しさ, 人混みの多さ, 景色, アクセス]</td>\n",
       "      <td>[2.9, 3.2, 3.5, 2.5]</td>\n",
       "      <td>[一人旅には最適でした, 非常に混んでいた, 自然の素晴らしさを味わった, アクセスはあまり...</td>\n",
       "    </tr>\n",
       "    <tr>\n",
       "      <th>27</th>\n",
       "      <td>観光地 28</td>\n",
       "      <td>2.9</td>\n",
       "      <td>[楽しさ, 人混みの多さ, 景色, アクセス]</td>\n",
       "      <td>[2.8, 3.2, 3.4, 2.4]</td>\n",
       "      <td>[１日中飽きることなく遊び続けられた, 時間帯によって混雑具合は違った, 山頂からの景色は絶...</td>\n",
       "    </tr>\n",
       "    <tr>\n",
       "      <th>28</th>\n",
       "      <td>観光地 29</td>\n",
       "      <td>2.9</td>\n",
       "      <td>[楽しさ, 人混みの多さ, 景色, アクセス]</td>\n",
       "      <td>[2.8, 3.1, 3.4, 2.4]</td>\n",
       "      <td>[THE非日常, 非常に混んでいた, 時を忘れるような壮大さであった, アクセスはあまり良く...</td>\n",
       "    </tr>\n",
       "    <tr>\n",
       "      <th>29</th>\n",
       "      <td>観光地 30</td>\n",
       "      <td>2.8</td>\n",
       "      <td>[楽しさ, 人混みの多さ, 景色, アクセス]</td>\n",
       "      <td>[2.7, 3.1, 3.3, 2.3]</td>\n",
       "      <td>[また行きたいと思える場所でした！！, お昼の時間はかなり混んでいた, 目を疑う超絶景であっ...</td>\n",
       "    </tr>\n",
       "  </tbody>\n",
       "</table>\n",
       "</div>"
      ],
      "text/plain": [
       "      観光地名  ...                                               コメント\n",
       "0    観光地 1  ...  [１日中飽きることなく遊び続けられた, 非常に空いていた, 自然の素晴らしさを味わった, 市...\n",
       "1    観光地 2  ...  [一人旅には最適でした, 非常に空いていた, 山頂からの景色は絶景であった, 渋滞に巻き込ま...\n",
       "2    観光地 3  ...  [また行きたいと思える場所でした！！, お昼の時間はかなり混んでいた, 山頂からの景色は絶景...\n",
       "3    観光地 4  ...       [満喫できた, 非常に混んでいた, 景色に魅了された, 飛行機で1時間ほどで着きました]\n",
       "4    観光地 5  ...  [１日中飽きることなく遊び続けられた, 時間帯によって混雑具合は違った, 大自然を感じること...\n",
       "5    観光地 6  ...  [満喫できた, 非常に混んでいた, 時を忘れるような壮大さであった, アクセスはあまり良くな...\n",
       "6    観光地 7  ...  [とてもエンジョイした, まぁまぁ混んでいた, 目を疑う超絶景であった, 市内から車で2時間...\n",
       "7    観光地 8  ...  [楽しくて帰りたくなかった, お昼の時間はかなり混んでいた, 海が非常に綺麗であった, 船で...\n",
       "8    観光地 9  ...  [とてもエンジョイした, 時間帯によって混雑具合は違った, 信じられないような絶景であった,...\n",
       "9   観光地 10  ...  [また行きたいと思える場所でした！！, 空いていた, 信じられないような絶景であった, 船で...\n",
       "10  観光地 11  ...  [楽しくて帰りたくなかった, 非常に空いていた, 時を忘れるような壮大さであった, 飛行機で...\n",
       "11  観光地 12  ...  [一人旅には最適でした, 時間帯によって混雑具合は違った, 信じられないような絶景であった,...\n",
       "12  観光地 13  ...  [一人旅には最適でした, お昼の時間はかなり混んでいた, 海が非常に綺麗であった, アクセス...\n",
       "13  観光地 14  ...    [非常に楽しい場所であった, 空いていた, 大自然を感じることができた, 交通の便が悪かった]\n",
       "14  観光地 15  ...      [満喫できた, 非常に空いていた, 大自然を感じることができた, 船で1時間ほどであった]\n",
       "15  観光地 16  ...  [また行きたいと思える場所でした！！, 時間帯によって混雑具合は違った, 海が非常に綺麗であ...\n",
       "16  観光地 17  ...      [とてもエンジョイした, 非常に混んでいた, 景色に魅了された, 船で2時間ほどであった]\n",
       "17  観光地 18  ...  [非常に楽しい場所であった, まぁまぁ混んでいた, 目を疑う超絶景であった, 渋滞に巻き込ま...\n",
       "18  観光地 19  ...  [THE非日常, まぁまぁ混んでいた, 自然の素晴らしさを味わった, 渋滞に巻き込まれて3時...\n",
       "19  観光地 20  ...  [１日中飽きることなく遊び続けられた, 非常に混んでいた, 時を忘れるような壮大さであった,...\n",
       "20  観光地 21  ...  [非常に楽しい場所であった, お昼の時間はかなり混んでいた, 景色に魅了された, 船で1時間...\n",
       "21  観光地 22  ...  [THE非日常, 非常に空いていた, 信じられないような絶景であった, 渋滞に巻き込まれて3...\n",
       "22  観光地 23  ...  [満喫できた, 非常に空いていた, 山頂からの景色は絶景であった, 市内から車で2時間ほどで...\n",
       "23  観光地 24  ...  [楽しくて帰りたくなかった, まぁまぁ混んでいた, 景色に魅了された, 市内から車で2時間ほ...\n",
       "24  観光地 25  ...  [一人旅には最適でした, 空いていた, 信じられないような絶景であった, 船で2時間ほどであった]\n",
       "25  観光地 26  ...           [満喫できた, 空いていた, 海が非常に綺麗であった, 船で2時間ほどであった]\n",
       "26  観光地 27  ...  [一人旅には最適でした, 非常に混んでいた, 自然の素晴らしさを味わった, アクセスはあまり...\n",
       "27  観光地 28  ...  [１日中飽きることなく遊び続けられた, 時間帯によって混雑具合は違った, 山頂からの景色は絶...\n",
       "28  観光地 29  ...  [THE非日常, 非常に混んでいた, 時を忘れるような壮大さであった, アクセスはあまり良く...\n",
       "29  観光地 30  ...  [また行きたいと思える場所でした！！, お昼の時間はかなり混んでいた, 目を疑う超絶景であっ...\n",
       "\n",
       "[30 rows x 5 columns]"
      ]
     },
     "execution_count": 132,
     "metadata": {},
     "output_type": "execute_result"
    }
   ],
   "source": [
    "df = pd.DataFrame()\n",
    "df['観光地名'] = titles\n",
    "df['総合評価'] = ranks\n",
    "df['項目'] = keysList\n",
    "df['評価'] = valuesList\n",
    "df['コメント'] = commentsList\n",
    "df"
   ]
  },
  {
   "cell_type": "code",
   "execution_count": 133,
   "id": "1ec2bab5",
   "metadata": {},
   "outputs": [],
   "source": [
    "df.to_csv('ランキング一覧', index=False)"
   ]
  },
  {
   "cell_type": "code",
   "execution_count": null,
   "id": "47c414e0",
   "metadata": {},
   "outputs": [],
   "source": []
  }
 ],
 "metadata": {
  "kernelspec": {
   "display_name": "Python 3 (ipykernel)",
   "language": "python",
   "name": "python3"
  },
  "language_info": {
   "codemirror_mode": {
    "name": "ipython",
    "version": 3
   },
   "file_extension": ".py",
   "mimetype": "text/x-python",
   "name": "python",
   "nbconvert_exporter": "python",
   "pygments_lexer": "ipython3",
   "version": "3.9.6"
  }
 },
 "nbformat": 4,
 "nbformat_minor": 5
}
